{
 "cells": [
  {
   "cell_type": "markdown",
   "metadata": {},
   "source": [
    "# Chapter 2 - Discovering patterns in Data"
   ]
  },
  {
   "cell_type": "markdown",
   "metadata": {},
   "source": [
    "Aim:\n",
    "Identify factors determining high-pressure game situtations and factors affecting scoring probability"
   ]
  },
  {
   "cell_type": "markdown",
   "metadata": {},
   "source": [
    "## 2.1 - Quantifying associations between variables"
   ]
  },
  {
   "cell_type": "markdown",
   "metadata": {},
   "source": [
    "Association or term dependence: any statistical relationship between two variables, casual or otherwise"
   ]
  },
  {
   "cell_type": "markdown",
   "metadata": {},
   "source": [
    "Types of variables:\n",
    "1. Categorical variables\n",
    "2. Numerical variables"
   ]
  },
  {
   "cell_type": "markdown",
   "metadata": {},
   "source": [
    "__Categorical variables__ assign each unit of observation to a particular group or category on the basis of some qualitative property; possible values for categorical variables can be attributes or categories\n",
    "Eg: \n",
    "- Conference to which a team belongs - East or West\n",
    "- Result of a shot - made or missed\n",
    "- Player's role - with 5 possibles values given by point guard, shooting gaurd, small forward, power forward and center\n",
    "\n",
    "\n",
    "__Discrete numerical variable__ , for example, is the total number of points made, while the time played in the quarter is a __continuous numerical variable__"
   ]
  },
  {
   "cell_type": "markdown",
   "metadata": {},
   "source": [
    "__*Why is the distinction important?*__\n",
    "\n",
    "Because statistical methods conceived for variables of one kind cannot be appropriatly used to analyze the other kind of variables"
   ]
  },
  {
   "cell_type": "markdown",
   "metadata": {},
   "source": [
    "Focusing on **bivariate analysis**, there 3 common definitions:\n",
    "1. Statistical dependence\n",
    "2. Mean dependence\n",
    "3. Correlation"
   ]
  },
  {
   "cell_type": "markdown",
   "metadata": {},
   "source": [
    "__Statistical dependence__ can be evaluated when variables are both categorical or at least one is numerical, or they are both numerical.\n",
    "\n",
    "__Mean dependence__ requires at least one numerical variable\n",
    "\n",
    "__Correlation analysis__ requires that both variables are numerical\n"
   ]
  },
  {
   "cell_type": "markdown",
   "metadata": {},
   "source": [
    "_This book is devoted to the study of correlation, because the in basketball analytics the variables of interest are often numerical_"
   ]
  },
  {
   "cell_type": "markdown",
   "metadata": {},
   "source": [
    "### 2.1.1 - Statistical dependence"
   ]
  },
  {
   "cell_type": "markdown",
   "metadata": {},
   "source": [
    "Statistical dependence can be studied using a two-way cross-table and investigating the general relationship between the two variables.\n",
    "This method compares the observed frequencies with the number of expected frequencies under the independence hypothesis.\n",
    "\n",
    "Many association indexes proposed in literature are based on summary of differences  between the observed and the exercised frequency - statistical difference (beyond random chance)\n",
    "\n",
    "Most famous assocaition index based on the differences between observed and expected frequencies is teh Chi-square (${X^2}$, sometimes indicated as $\\chi^2$).\n",
    "\n",
    "Suppose table of *r* rows x *c* columns and let $n_{ij}$ and $\\hat{n}_{ij}$ (*i* = 1,..., *r* ; *j* = 1,...,*c*) be the observed and expected frequency respectively in a random cell *i,j*. $X^2$ can be computed as $\\sum_{i} \\sum_{j} \\frac {(n_{ij} - \\hat{n}_{ij})^2} {\\hat{n}_{ij}}$.\n",
    "\n",
    "Since the above mesaures the intensity of the relationship between the two variables, but also depends on the sample size $N$, number of $r$ rows and $c$ columns, this statistic has been adjusted in several ways, giving birth to a number of related measures of association, like:\n",
    "1. Phi $\\phi$ ( $\\phi = \\sqrt{{X^2}/{N}}$, also known as $M_{2}(D)$)\n",
    "2. Mean Squared Contingency (${\\phi^2}$)\n",
    "3. Pearson's contingency coefficient $P$ ($P = \\sqrt{ \\phi^2 / (\\phi^2 + 1)}$)\n",
    "4. Cramers's *V*, also known as the normalized index $C$ ($ V = \\phi / \\sqrt{k - 1}$) where $k = min(r, c)$)\n",
    "\n",
    "NOTE: When there is no association between the two variables, each of these above measures have a value of 0\n",
    "\n",
    "As the intensity of association increases, the value of each of these measures increases. **Cramer's $V$ is the preferred measure** because it is the only one that equals 1 in the case of a perfect association between the two variables and so can be easily interpreted as a percentage.\n",
    "In addition, since Cramer's $V$ formula considers the dimensions of the table, it can be used for comparisons among tables of different dimensions (size of the tables doesn't have to be the same).\n",
    "\n",
    "A significance test is usually performed on {X^2} (called *Chi-square test of independence*, based on the $\\chi^2$ distribution) in order to test whether the $X^2$ value can be considered statistically different from zero, indicating that there exists a significant association between the two variables. For the other association measures derived from $X^2$, it can be said that their tests of significance lead to the same conclusion as it is for the $\\chi^2$ test of independence."
   ]
  },
  {
   "cell_type": "markdown",
   "metadata": {},
   "source": [
    "For example, we may be interested in analyzing if some game statistics of the Golden State Warriors depends on the opponent team they play. To do this, we can compute some  association measure between the two variables crossed in table `T` below, which reports the #of free throws, missed shots, rebounds and attempted shots by Golden State Warriors in the matches played against each of the opponent teams shown in the table rows\n",
    "\n"
   ]
  },
  {
   "cell_type": "markdown",
   "metadata": {},
   "source": [
    "library(BasketballAnalyzeR)"
   ]
  },
  {
   "cell_type": "code",
   "execution_count": 42,
   "metadata": {},
   "outputs": [],
   "source": [
    "#data(package=\"BasketballAnalyzeR\")"
   ]
  },
  {
   "cell_type": "code",
   "execution_count": 9,
   "metadata": {},
   "outputs": [],
   "source": [
    "PbP <- PbPmanipulation(PbP.BDB)"
   ]
  },
  {
   "cell_type": "code",
   "execution_count": 10,
   "metadata": {},
   "outputs": [],
   "source": [
    "PbP.GSW <- subset(PbP, team==\"GSW\")"
   ]
  },
  {
   "cell_type": "code",
   "execution_count": 11,
   "metadata": {},
   "outputs": [],
   "source": [
    "ev <- c(\"ejection\", \"end of period\", \"jump ball\",\n",
    "        \"start of period\", \"unknown\", \"violation\",\n",
    "        \"timeout\", \"sub\", \"foul\", \"turnover\")"
   ]
  },
  {
   "cell_type": "code",
   "execution_count": 12,
   "metadata": {},
   "outputs": [
    {
     "data": {
      "text/html": [
       "<style>\n",
       ".list-inline {list-style: none; margin:0; padding: 0}\n",
       ".list-inline>li {display: inline-block}\n",
       ".list-inline>li:not(:last-child)::after {content: \"\\00b7\"; padding: 0 .5ex}\n",
       "</style>\n",
       "<ol class=list-inline><li>'ejection'</li><li>'end of period'</li><li>'jump ball'</li><li>'start of period'</li><li>'unknown'</li><li>'violation'</li><li>'timeout'</li><li>'sub'</li><li>'foul'</li><li>'turnover'</li></ol>\n"
      ],
      "text/latex": [
       "\\begin{enumerate*}\n",
       "\\item 'ejection'\n",
       "\\item 'end of period'\n",
       "\\item 'jump ball'\n",
       "\\item 'start of period'\n",
       "\\item 'unknown'\n",
       "\\item 'violation'\n",
       "\\item 'timeout'\n",
       "\\item 'sub'\n",
       "\\item 'foul'\n",
       "\\item 'turnover'\n",
       "\\end{enumerate*}\n"
      ],
      "text/markdown": [
       "1. 'ejection'\n",
       "2. 'end of period'\n",
       "3. 'jump ball'\n",
       "4. 'start of period'\n",
       "5. 'unknown'\n",
       "6. 'violation'\n",
       "7. 'timeout'\n",
       "8. 'sub'\n",
       "9. 'foul'\n",
       "10. 'turnover'\n",
       "\n",
       "\n"
      ],
      "text/plain": [
       " [1] \"ejection\"        \"end of period\"   \"jump ball\"       \"start of period\"\n",
       " [5] \"unknown\"         \"violation\"       \"timeout\"         \"sub\"            \n",
       " [9] \"foul\"            \"turnover\"       "
      ]
     },
     "metadata": {},
     "output_type": "display_data"
    }
   ],
   "source": [
    "ev"
   ]
  },
  {
   "cell_type": "code",
   "execution_count": 13,
   "metadata": {},
   "outputs": [],
   "source": [
    "event.unsel <- which(PbP.GSW$event_type %in% ev)"
   ]
  },
  {
   "cell_type": "code",
   "execution_count": 14,
   "metadata": {},
   "outputs": [],
   "source": [
    "PbP.GSW.ev <- PbP.GSW[-event.unsel,]"
   ]
  },
  {
   "cell_type": "code",
   "execution_count": 15,
   "metadata": {},
   "outputs": [],
   "source": [
    "# PbP.GSW.ev"
   ]
  },
  {
   "cell_type": "markdown",
   "metadata": {},
   "source": [
    "The cross-table `T` is given by:"
   ]
  },
  {
   "cell_type": "code",
   "execution_count": 16,
   "metadata": {},
   "outputs": [],
   "source": [
    "attach(PbP.GSW.ev)"
   ]
  },
  {
   "cell_type": "code",
   "execution_count": 17,
   "metadata": {},
   "outputs": [],
   "source": [
    "T <- table(oppTeam, event_type, exclude=ev)"
   ]
  },
  {
   "cell_type": "code",
   "execution_count": 18,
   "metadata": {},
   "outputs": [
    {
     "data": {
      "text/plain": [
       "       event_type\n",
       "oppTeam free throw miss rebound shot\n",
       "    ATL         33   88      81   84\n",
       "    BKN         34   80      98   93\n",
       "    BOS         45   95      90   71\n",
       "    CHA         26   91      90   80\n",
       "    CHI         46   80      98   95\n",
       "    CLE         47   88      95   79\n",
       "    DAL         74  155     188  188\n",
       "    DEN         78  172     164  173\n",
       "    DET         34   75      85   83\n",
       "    HOU         56  118     119  131\n",
       "    IND         33   97      90   72\n",
       "    LAC        127  161     166  176\n",
       "    LAL        104  190     202  176\n",
       "    MEM         77  126     128  117\n",
       "    MIA         48   92      92   79\n",
       "    MIL         33   70      74   85\n",
       "    MIN         54  132     142  133\n",
       "    NOP         85  183     175  180\n",
       "    NYK         46   78      79   90\n",
       "    OKC         86  176     179  153\n",
       "    ORL         27   77      92   99\n",
       "    PHI         46   76      88   98\n",
       "    PHX         59  166     178  197\n",
       "    POR         60  123     116  125\n",
       "    SAC         76  165     169  159\n",
       "    SAS         70  175     169  162\n",
       "    TOR         50   68      66   90\n",
       "    UTA         64  190     167  158\n",
       "    WAS         50   83      89   83"
      ]
     },
     "metadata": {},
     "output_type": "display_data"
    }
   ],
   "source": [
    "T"
   ]
  },
  {
   "cell_type": "code",
   "execution_count": 19,
   "metadata": {},
   "outputs": [],
   "source": [
    "detach(PbP.GSW.ev)"
   ]
  },
  {
   "cell_type": "markdown",
   "metadata": {},
   "source": [
    "Some association measure can be directly obtained by resporting to the function assocstats in teh library `vcd` as. follows:"
   ]
  },
  {
   "cell_type": "code",
   "execution_count": 20,
   "metadata": {},
   "outputs": [],
   "source": [
    "# install.packages(\"vcd\", repos='http://cran.us.r-project.org')"
   ]
  },
  {
   "cell_type": "code",
   "execution_count": 21,
   "metadata": {},
   "outputs": [
    {
     "name": "stderr",
     "output_type": "stream",
     "text": [
      "Warning message:\n",
      "“package ‘vcd’ was built under R version 4.0.2”\n",
      "Loading required package: grid\n",
      "\n"
     ]
    }
   ],
   "source": [
    "library(vcd)"
   ]
  },
  {
   "cell_type": "code",
   "execution_count": 22,
   "metadata": {},
   "outputs": [
    {
     "data": {
      "text/plain": [
       "                    X^2 df P(> X^2)\n",
       "Likelihood Ratio 115.26 84 0.013396\n",
       "Pearson          116.25 84 0.011421\n",
       "\n",
       "Phi-Coefficient   : NA \n",
       "Contingency Coeff.: 0.097 \n",
       "Cramer's V        : 0.056 "
      ]
     },
     "metadata": {},
     "output_type": "display_data"
    }
   ],
   "source": [
    "assocstats(T)"
   ]
  },
  {
   "cell_type": "markdown",
   "metadata": {},
   "source": [
    "As the above results show:\n",
    "- the association between the two variables is low (Cramer's $V$=~0.06), but significantly not 0. \n",
    "- Pearson's $\\chi^2$ = 116.25 has *p*-value=~0.011. An association is usually considered significant when *p*-value is lower than conventional values 0.05 or 0.10. Ergo, not significant\n",
    "- Liklihood ratio a.k.a *G*-test, that gives here the same indications as the Chi-square test of independence, not significant.\n",
    "\n",
    "**We may conclude that there is low association that the number of game events (shots, missed shots, rebounds and free throws) in GSW's playtime depends on the opponent team**. Play attention to the fact that teams do not play against all other teams an equal number of times\n"
   ]
  },
  {
   "cell_type": "code",
   "execution_count": 23,
   "metadata": {},
   "outputs": [
    {
     "name": "stderr",
     "output_type": "stream",
     "text": [
      "\n",
      "Attaching package: ‘dplyr’\n",
      "\n",
      "\n",
      "The following objects are masked from ‘package:stats’:\n",
      "\n",
      "    filter, lag\n",
      "\n",
      "\n",
      "The following objects are masked from ‘package:base’:\n",
      "\n",
      "    intersect, setdiff, setequal, union\n",
      "\n",
      "\n"
     ]
    }
   ],
   "source": [
    "library(dplyr)"
   ]
  },
  {
   "cell_type": "code",
   "execution_count": 24,
   "metadata": {},
   "outputs": [],
   "source": [
    "# install.packages(\"lsr\", repos='http://cran.us.r-project.org')"
   ]
  },
  {
   "cell_type": "code",
   "execution_count": 25,
   "metadata": {},
   "outputs": [
    {
     "name": "stderr",
     "output_type": "stream",
     "text": [
      "Warning message:\n",
      "“package ‘lsr’ was built under R version 4.0.2”\n"
     ]
    }
   ],
   "source": [
    "library(lsr)"
   ]
  },
  {
   "cell_type": "code",
   "execution_count": 26,
   "metadata": {},
   "outputs": [
    {
     "data": {
      "text/plain": [
       "               _                           \n",
       "platform       x86_64-apple-darwin17.0     \n",
       "arch           x86_64                      \n",
       "os             darwin17.0                  \n",
       "system         x86_64, darwin17.0          \n",
       "status                                     \n",
       "major          4                           \n",
       "minor          0.1                         \n",
       "year           2020                        \n",
       "month          06                          \n",
       "day            06                          \n",
       "svn rev        78648                       \n",
       "language       R                           \n",
       "version.string R version 4.0.1 (2020-06-06)\n",
       "nickname       See Things Now              "
      ]
     },
     "metadata": {},
     "output_type": "display_data"
    }
   ],
   "source": [
    " R.version"
   ]
  },
  {
   "cell_type": "code",
   "execution_count": 38,
   "metadata": {},
   "outputs": [],
   "source": [
    "# install.packages(\"tibble\", repos='http://cran.us.r-project.org')"
   ]
  },
  {
   "cell_type": "code",
   "execution_count": 1,
   "metadata": {},
   "outputs": [
    {
     "name": "stderr",
     "output_type": "stream",
     "text": [
      "Removing package from ‘/Library/Frameworks/R.framework/Versions/4.0/Resources/library’\n",
      "(as ‘lib’ is unspecified)\n",
      "\n"
     ]
    }
   ],
   "source": [
    "# remove.packages(\"ggplot2\")"
   ]
  },
  {
   "cell_type": "code",
   "execution_count": 28,
   "metadata": {},
   "outputs": [],
   "source": [
    "# install.packages(\"ggplot2\")"
   ]
  },
  {
   "cell_type": "code",
   "execution_count": 29,
   "metadata": {},
   "outputs": [],
   "source": [
    "library(tibble)"
   ]
  },
  {
   "cell_type": "code",
   "execution_count": 30,
   "metadata": {},
   "outputs": [],
   "source": [
    "FF <- fourfactors(Tbox, Obox)"
   ]
  },
  {
   "cell_type": "code",
   "execution_count": 31,
   "metadata": {},
   "outputs": [],
   "source": [
    "attach(Tbox)"
   ]
  },
  {
   "cell_type": "code",
   "execution_count": 32,
   "metadata": {},
   "outputs": [
    {
     "name": "stderr",
     "output_type": "stream",
     "text": [
      "The following object is masked from Tbox:\n",
      "\n",
      "    Team\n",
      "\n",
      "\n"
     ]
    }
   ],
   "source": [
    "attach(FF)"
   ]
  },
  {
   "cell_type": "code",
   "execution_count": 33,
   "metadata": {},
   "outputs": [],
   "source": [
    "X <- data.frame(PTS, P2M, P3M, FTM, REB=OREB+DREB, AST,\n",
    "                STL, BLK, ORtg, DRtg)"
   ]
  },
  {
   "cell_type": "code",
   "execution_count": 34,
   "metadata": {},
   "outputs": [],
   "source": [
    "detach(Tbox)"
   ]
  },
  {
   "cell_type": "code",
   "execution_count": 35,
   "metadata": {},
   "outputs": [],
   "source": [
    "detach(FF)"
   ]
  },
  {
   "cell_type": "code",
   "execution_count": 36,
   "metadata": {},
   "outputs": [],
   "source": [
    "Playoff <- Tadd$Playoff"
   ]
  },
  {
   "cell_type": "code",
   "execution_count": 41,
   "metadata": {},
   "outputs": [],
   "source": [
    "eta <- sapply(X, function(Y){\n",
    "    cm <- round(tapply(Y, Playoff, mean), 1)\n",
    "    eta2 <- etaSquared(aov(Y~Playoff))[1]*100\n",
    "    c(cm, round(eta2, 2))\n",
    "}) %>%\n",
    "    t() %>%\n",
    "    as.data.frame() %>%\n",
    "    rename(No=N, Yes=Y, eta2=V3) %>%\n",
    "    tibble::rownames_to_column(\"rowname\") %>%\n",
    "    arrange(-eta2) %>%\n",
    "    tibble::column_to_rownames('rowname')"
   ]
  },
  {
   "cell_type": "code",
   "execution_count": null,
   "metadata": {},
   "outputs": [],
   "source": []
  }
 ],
 "metadata": {
  "kernelspec": {
   "display_name": "R",
   "language": "R",
   "name": "ir"
  },
  "language_info": {
   "codemirror_mode": "r",
   "file_extension": ".r",
   "mimetype": "text/x-r-source",
   "name": "R",
   "pygments_lexer": "r",
   "version": "4.0.1"
  }
 },
 "nbformat": 4,
 "nbformat_minor": 4
}
