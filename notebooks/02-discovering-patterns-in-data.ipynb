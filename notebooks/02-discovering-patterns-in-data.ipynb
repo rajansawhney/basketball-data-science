{
 "cells": [
  {
   "cell_type": "markdown",
   "metadata": {},
   "source": [
    "# Chapter 2 - Discovering patterns in Data"
   ]
  },
  {
   "cell_type": "markdown",
   "metadata": {},
   "source": [
    "Aim:\n",
    "Identify factors determining high-pressure game situtations and factors affecting scoring probability"
   ]
  },
  {
   "cell_type": "markdown",
   "metadata": {},
   "source": [
    "## 2.1 - Quantifying associations between variables"
   ]
  },
  {
   "cell_type": "markdown",
   "metadata": {},
   "source": [
    "Association or term dependence: any statistical relationship between two variables, casual or otherwise"
   ]
  },
  {
   "cell_type": "markdown",
   "metadata": {},
   "source": [
    "Types of variables:\n",
    "1. Categorical variables\n",
    "2. Numerical variables"
   ]
  },
  {
   "cell_type": "markdown",
   "metadata": {},
   "source": [
    "__Categorical variables__ assign each unit of observation to a particular group or category on the basis of some qualitative property; possible values for categorical variables can be attributes or categories\n",
    "Eg: \n",
    "- Conference to which a team belongs - East or West\n",
    "- Result of a shot - made or missed\n",
    "- Player's role - with 5 possibles values given by point guard, shooting gaurd, small forward, power forward and center\n",
    "\n",
    "\n",
    "__Discrete numerical variable__ , for example, is the total number of points made, while the time played in the quarter is a __continuous numerical variable__"
   ]
  },
  {
   "cell_type": "markdown",
   "metadata": {},
   "source": [
    "__*Why is the distinction important?*__\n",
    "\n",
    "Because statistical methods conceived for variables of one kind cannot be appropriatly used to analyze the other kind of variables"
   ]
  },
  {
   "cell_type": "markdown",
   "metadata": {},
   "source": [
    "Foccusing on bivariate analysis, there 3 common definitions:\n",
    "1. Statistical dependence\n",
    "2. Mean dependence\n",
    "3. Correlation"
   ]
  },
  {
   "cell_type": "markdown",
   "metadata": {},
   "source": [
    "__Statistical dependence__ can be evaluated when variables are both categorical or at least one is numerical, or they are both numerical.\n",
    "\n",
    "__Mean dependence__ requires at least one numerical variable\n",
    "\n",
    "__Correlation analysis__ requires that both variables are numerical\n"
   ]
  },
  {
   "cell_type": "markdown",
   "metadata": {},
   "source": [
    "_This book is devoted to the study of correlation, because the in basketball analytics the variables of interest are often numerical_"
   ]
  },
  {
   "cell_type": "code",
   "execution_count": 24,
   "metadata": {},
   "outputs": [],
   "source": [
    "library(BasketballAnalyzeR)"
   ]
  },
  {
   "cell_type": "code",
   "execution_count": 3,
   "metadata": {},
   "outputs": [
    {
     "data": {
      "text/html": [
       "<h3>Data sets</h3>\n",
       "<table>\n",
       "<caption>A data.frame: 5 × 3</caption>\n",
       "<thead>\n",
       "\t<tr><th scope=col>Package</th><th scope=col>Item</th><th scope=col>Title</th></tr>\n",
       "\t<tr><th scope=col>&lt;chr&gt;</th><th scope=col>&lt;chr&gt;</th><th scope=col>&lt;chr&gt;</th></tr>\n",
       "</thead>\n",
       "<tbody>\n",
       "\t<tr><td>BasketballAnalyzeR</td><td>Obox   </td><td>Opponents box scores dataset - NBA 2017-2018</td></tr>\n",
       "\t<tr><td>BasketballAnalyzeR</td><td>PbP.BDB</td><td>Play-by-play dataset - NBA 2017-2018        </td></tr>\n",
       "\t<tr><td>BasketballAnalyzeR</td><td>Pbox   </td><td>Players box scores dataset - NBA 2017-2018  </td></tr>\n",
       "\t<tr><td>BasketballAnalyzeR</td><td>Tadd   </td><td>Tadd dataset - NBA 2017-2018                </td></tr>\n",
       "\t<tr><td>BasketballAnalyzeR</td><td>Tbox   </td><td>Teams box scores dataset - NBA 2017-2018    </td></tr>\n",
       "</tbody>\n",
       "</table>\n",
       "\n"
      ],
      "text/plain": [
       "Data sets in package ‘BasketballAnalyzeR’:\n",
       "\n",
       "Obox                    Opponents box scores dataset - NBA 2017-2018\n",
       "PbP.BDB                 Play-by-play dataset - NBA 2017-2018\n",
       "Pbox                    Players box scores dataset - NBA 2017-2018\n",
       "Tadd                    Tadd dataset - NBA 2017-2018\n",
       "Tbox                    Teams box scores dataset - NBA 2017-2018"
      ]
     },
     "metadata": {},
     "output_type": "display_data"
    }
   ],
   "source": [
    "data(package=\"BasketballAnalyzeR\")"
   ]
  },
  {
   "cell_type": "code",
   "execution_count": 4,
   "metadata": {},
   "outputs": [],
   "source": [
    "PbP <- PbPmanipulation(PbP.BDB)"
   ]
  },
  {
   "cell_type": "code",
   "execution_count": 5,
   "metadata": {},
   "outputs": [],
   "source": [
    "PbP.GSW <- subset(PbP, team==\"GSW\")"
   ]
  },
  {
   "cell_type": "code",
   "execution_count": 6,
   "metadata": {},
   "outputs": [],
   "source": [
    "ev <- c(\"ejection\", \"end of period\", \"jump ball\",\n",
    "        \"start of period\", \"unknown\", \"violation\",\n",
    "        \"timeout\", \"sub\", \"foul\", \"turnover\")"
   ]
  },
  {
   "cell_type": "code",
   "execution_count": 14,
   "metadata": {},
   "outputs": [
    {
     "data": {
      "text/html": [
       "<style>\n",
       ".list-inline {list-style: none; margin:0; padding: 0}\n",
       ".list-inline>li {display: inline-block}\n",
       ".list-inline>li:not(:last-child)::after {content: \"\\00b7\"; padding: 0 .5ex}\n",
       "</style>\n",
       "<ol class=list-inline><li>'ejection'</li><li>'end of period'</li><li>'jump ball'</li><li>'start of period'</li><li>'unknown'</li><li>'violation'</li><li>'timeout'</li><li>'sub'</li><li>'foul'</li><li>'turnover'</li></ol>\n"
      ],
      "text/latex": [
       "\\begin{enumerate*}\n",
       "\\item 'ejection'\n",
       "\\item 'end of period'\n",
       "\\item 'jump ball'\n",
       "\\item 'start of period'\n",
       "\\item 'unknown'\n",
       "\\item 'violation'\n",
       "\\item 'timeout'\n",
       "\\item 'sub'\n",
       "\\item 'foul'\n",
       "\\item 'turnover'\n",
       "\\end{enumerate*}\n"
      ],
      "text/markdown": [
       "1. 'ejection'\n",
       "2. 'end of period'\n",
       "3. 'jump ball'\n",
       "4. 'start of period'\n",
       "5. 'unknown'\n",
       "6. 'violation'\n",
       "7. 'timeout'\n",
       "8. 'sub'\n",
       "9. 'foul'\n",
       "10. 'turnover'\n",
       "\n",
       "\n"
      ],
      "text/plain": [
       " [1] \"ejection\"        \"end of period\"   \"jump ball\"       \"start of period\"\n",
       " [5] \"unknown\"         \"violation\"       \"timeout\"         \"sub\"            \n",
       " [9] \"foul\"            \"turnover\"       "
      ]
     },
     "metadata": {},
     "output_type": "display_data"
    }
   ],
   "source": [
    "ev"
   ]
  },
  {
   "cell_type": "code",
   "execution_count": 7,
   "metadata": {},
   "outputs": [],
   "source": [
    "event.unsel <- which(PbP.GSW$event_type %in% ev)"
   ]
  },
  {
   "cell_type": "code",
   "execution_count": 9,
   "metadata": {},
   "outputs": [],
   "source": [
    "PbP.GSW.ev <- PbP.GSW[-event.unsel,]"
   ]
  },
  {
   "cell_type": "code",
   "execution_count": 15,
   "metadata": {},
   "outputs": [],
   "source": [
    "# PbP.GSW.ev"
   ]
  },
  {
   "cell_type": "code",
   "execution_count": 10,
   "metadata": {},
   "outputs": [],
   "source": [
    "attach(PbP.GSW.ev)"
   ]
  },
  {
   "cell_type": "code",
   "execution_count": 11,
   "metadata": {},
   "outputs": [],
   "source": [
    "T <- table(oppTeam, event_type, exclude=ev)"
   ]
  },
  {
   "cell_type": "code",
   "execution_count": 12,
   "metadata": {},
   "outputs": [
    {
     "data": {
      "text/plain": [
       "       event_type\n",
       "oppTeam free throw miss rebound shot\n",
       "    ATL         33   88      81   84\n",
       "    BKN         34   80      98   93\n",
       "    BOS         45   95      90   71\n",
       "    CHA         26   91      90   80\n",
       "    CHI         46   80      98   95\n",
       "    CLE         47   88      95   79\n",
       "    DAL         74  155     188  188\n",
       "    DEN         78  172     164  173\n",
       "    DET         34   75      85   83\n",
       "    HOU         56  118     119  131\n",
       "    IND         33   97      90   72\n",
       "    LAC        127  161     166  176\n",
       "    LAL        104  190     202  176\n",
       "    MEM         77  126     128  117\n",
       "    MIA         48   92      92   79\n",
       "    MIL         33   70      74   85\n",
       "    MIN         54  132     142  133\n",
       "    NOP         85  183     175  180\n",
       "    NYK         46   78      79   90\n",
       "    OKC         86  176     179  153\n",
       "    ORL         27   77      92   99\n",
       "    PHI         46   76      88   98\n",
       "    PHX         59  166     178  197\n",
       "    POR         60  123     116  125\n",
       "    SAC         76  165     169  159\n",
       "    SAS         70  175     169  162\n",
       "    TOR         50   68      66   90\n",
       "    UTA         64  190     167  158\n",
       "    WAS         50   83      89   83"
      ]
     },
     "metadata": {},
     "output_type": "display_data"
    }
   ],
   "source": [
    "T"
   ]
  },
  {
   "cell_type": "code",
   "execution_count": 17,
   "metadata": {},
   "outputs": [],
   "source": [
    "detach(PbP.GSW.ev)"
   ]
  },
  {
   "cell_type": "code",
   "execution_count": 20,
   "metadata": {},
   "outputs": [],
   "source": [
    "# install.packages(\"vcd\", repos='http://cran.us.r-project.org')"
   ]
  },
  {
   "cell_type": "code",
   "execution_count": 21,
   "metadata": {},
   "outputs": [
    {
     "name": "stderr",
     "output_type": "stream",
     "text": [
      "Warning message:\n",
      "“package ‘vcd’ was built under R version 4.0.2”\n",
      "Loading required package: grid\n",
      "\n"
     ]
    }
   ],
   "source": [
    "library(vcd)"
   ]
  },
  {
   "cell_type": "code",
   "execution_count": 22,
   "metadata": {},
   "outputs": [
    {
     "data": {
      "text/plain": [
       "                    X^2 df P(> X^2)\n",
       "Likelihood Ratio 115.26 84 0.013396\n",
       "Pearson          116.25 84 0.011421\n",
       "\n",
       "Phi-Coefficient   : NA \n",
       "Contingency Coeff.: 0.097 \n",
       "Cramer's V        : 0.056 "
      ]
     },
     "metadata": {},
     "output_type": "display_data"
    }
   ],
   "source": [
    "assocstats(T)"
   ]
  },
  {
   "cell_type": "code",
   "execution_count": null,
   "metadata": {},
   "outputs": [],
   "source": []
  }
 ],
 "metadata": {
  "kernelspec": {
   "display_name": "R",
   "language": "R",
   "name": "ir"
  },
  "language_info": {
   "codemirror_mode": "r",
   "file_extension": ".r",
   "mimetype": "text/x-r-source",
   "name": "R",
   "pygments_lexer": "r",
   "version": "4.0.1"
  }
 },
 "nbformat": 4,
 "nbformat_minor": 4
}
