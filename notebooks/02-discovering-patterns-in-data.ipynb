{
 "cells": [
  {
   "cell_type": "markdown",
   "metadata": {},
   "source": [
    "# Chapter 2 - Discovering patterns in Data"
   ]
  },
  {
   "cell_type": "markdown",
   "metadata": {},
   "source": [
    "Aim:\n",
    "Identify factors determining high-pressure game situtations and factors affecting scoring probability"
   ]
  },
  {
   "cell_type": "markdown",
   "metadata": {},
   "source": [
    "----\n",
    "## 2.1 - Quantifying associations between variables"
   ]
  },
  {
   "cell_type": "markdown",
   "metadata": {},
   "source": [
    "----\n",
    "Association or term dependence: any statistical relationship between two variables, casual or otherwise"
   ]
  },
  {
   "cell_type": "markdown",
   "metadata": {},
   "source": [
    "Types of variables:\n",
    "1. Categorical variables\n",
    "2. Numerical variables"
   ]
  },
  {
   "cell_type": "markdown",
   "metadata": {},
   "source": [
    "__Categorical variables__ assign each unit of observation to a particular group or category on the basis of some qualitative property; possible values for categorical variables can be attributes or categories\n",
    "Eg: \n",
    "- Conference to which a team belongs - East or West\n",
    "- Result of a shot - made or missed\n",
    "- Player's role - with 5 possibles values given by point guard, shooting gaurd, small forward, power forward and center\n",
    "\n",
    "\n",
    "__Discrete numerical variable__ , for example, is the total number of points made, while the time played in the quarter is a __continuous numerical variable__"
   ]
  },
  {
   "cell_type": "markdown",
   "metadata": {},
   "source": [
    "__*Why is the distinction important?*__\n",
    "\n",
    "Because statistical methods conceived for variables of one kind cannot be appropriatly used to analyze the other kind of variables"
   ]
  },
  {
   "cell_type": "markdown",
   "metadata": {},
   "source": [
    "Focusing on **bivariate analysis**, there 3 common definitions:\n",
    "1. Statistical dependence\n",
    "2. Mean dependence\n",
    "3. Correlation"
   ]
  },
  {
   "cell_type": "markdown",
   "metadata": {},
   "source": [
    "__Statistical dependence__ can be evaluated when variables are both categorical or at least one is numerical, or they are both numerical.\n",
    "\n",
    "__Mean dependence__ requires at least one numerical variable\n",
    "\n",
    "__Correlation analysis__ requires that both variables are numerical\n"
   ]
  },
  {
   "cell_type": "markdown",
   "metadata": {},
   "source": [
    "_This book is devoted to the study of correlation, because the in basketball analytics the variables of interest are often numerical_"
   ]
  },
  {
   "cell_type": "markdown",
   "metadata": {},
   "source": [
    "____"
   ]
  },
  {
   "cell_type": "markdown",
   "metadata": {},
   "source": [
    "### 2.1.1 - Statistical dependence"
   ]
  },
  {
   "cell_type": "markdown",
   "metadata": {},
   "source": [
    "Statistical dependence can be studied using a two-way cross-table and investigating the general relationship between the two variables.\n",
    "This method compares the observed frequencies with the number of expected frequencies under the independence hypothesis.\n",
    "\n",
    "Many association indexes proposed in literature are based on summary of differences  between the observed and the exercised frequency - statistical difference (beyond random chance)\n",
    "\n",
    "Most famous assocaition index based on the differences between observed and expected frequencies is teh Chi-square (${X^2}$, sometimes indicated as $\\chi^2$).\n",
    "\n",
    "Suppose table of *r* rows x *c* columns and let $n_{ij}$ and $\\hat{n}_{ij}$ (*i* = 1,..., *r* ; *j* = 1,...,*c*) be the observed and expected frequency respectively in a random cell *i,j*. $X^2$ can be computed as $\\sum_{i} \\sum_{j} \\frac {(n_{ij} - \\hat{n}_{ij})^2} {\\hat{n}_{ij}}$.\n",
    "\n",
    "Since the above mesaures the intensity of the relationship between the two variables, but also depends on the sample size $N$, number of $r$ rows and $c$ columns, this statistic has been adjusted in several ways, giving birth to a number of related measures of association, like:\n",
    "1. Phi $\\phi$ ( $\\phi = \\sqrt{{X^2}/{N}}$, also known as $M_{2}(D)$)\n",
    "2. Mean Squared Contingency (${\\phi^2}$)\n",
    "3. Pearson's contingency coefficient $P$ ($P = \\sqrt{ \\phi^2 / (\\phi^2 + 1)}$)\n",
    "4. Cramers's *V*, also known as the normalized index $C$ ($ V = \\phi / \\sqrt{k - 1}$) where $k = min(r, c)$)\n",
    "\n",
    "NOTE: When there is no association between the two variables, each of these above measures have a value of 0\n",
    "\n",
    "As the intensity of association increases, the value of each of these measures increases. **Cramer's $V$ is the preferred measure** because it is the only one that equals 1 in the case of a perfect association between the two variables and so can be easily interpreted as a percentage.\n",
    "In addition, since Cramer's $V$ formula considers the dimensions of the table, it can be used for comparisons among tables of different dimensions (size of the tables doesn't have to be the same).\n",
    "\n",
    "A significance test is usually performed on {X^2} (called *Chi-square test of independence*, based on the $\\chi^2$ distribution) in order to test whether the $X^2$ value can be considered statistically different from zero, indicating that there exists a significant association between the two variables. For the other association measures derived from $X^2$, it can be said that their tests of significance lead to the same conclusion as it is for the $\\chi^2$ test of independence."
   ]
  },
  {
   "cell_type": "markdown",
   "metadata": {},
   "source": [
    "For example, we may be interested in analyzing if some game statistics of the Golden State Warriors depends on the opponent team they play. To do this, we can compute some  association measure between the two variables crossed in table `T` below, which reports the #of free throws, missed shots, rebounds and attempted shots by Golden State Warriors in the matches played against each of the opponent teams shown in the table rows\n",
    "\n"
   ]
  },
  {
   "cell_type": "code",
   "execution_count": 44,
   "metadata": {},
   "outputs": [],
   "source": [
    "library(BasketballAnalyzeR)"
   ]
  },
  {
   "cell_type": "code",
   "execution_count": 45,
   "metadata": {},
   "outputs": [],
   "source": [
    "#data(package=\"BasketballAnalyzeR\")"
   ]
  },
  {
   "cell_type": "code",
   "execution_count": 46,
   "metadata": {},
   "outputs": [],
   "source": [
    "PbP <- PbPmanipulation(PbP.BDB)"
   ]
  },
  {
   "cell_type": "code",
   "execution_count": 47,
   "metadata": {},
   "outputs": [],
   "source": [
    "PbP.GSW <- subset(PbP, team==\"GSW\")"
   ]
  },
  {
   "cell_type": "code",
   "execution_count": 48,
   "metadata": {},
   "outputs": [],
   "source": [
    "ev <- c(\"ejection\", \"end of period\", \"jump ball\",\n",
    "        \"start of period\", \"unknown\", \"violation\",\n",
    "        \"timeout\", \"sub\", \"foul\", \"turnover\")"
   ]
  },
  {
   "cell_type": "code",
   "execution_count": 49,
   "metadata": {},
   "outputs": [
    {
     "data": {
      "text/html": [
       "<style>\n",
       ".list-inline {list-style: none; margin:0; padding: 0}\n",
       ".list-inline>li {display: inline-block}\n",
       ".list-inline>li:not(:last-child)::after {content: \"\\00b7\"; padding: 0 .5ex}\n",
       "</style>\n",
       "<ol class=list-inline><li>'ejection'</li><li>'end of period'</li><li>'jump ball'</li><li>'start of period'</li><li>'unknown'</li><li>'violation'</li><li>'timeout'</li><li>'sub'</li><li>'foul'</li><li>'turnover'</li></ol>\n"
      ],
      "text/latex": [
       "\\begin{enumerate*}\n",
       "\\item 'ejection'\n",
       "\\item 'end of period'\n",
       "\\item 'jump ball'\n",
       "\\item 'start of period'\n",
       "\\item 'unknown'\n",
       "\\item 'violation'\n",
       "\\item 'timeout'\n",
       "\\item 'sub'\n",
       "\\item 'foul'\n",
       "\\item 'turnover'\n",
       "\\end{enumerate*}\n"
      ],
      "text/markdown": [
       "1. 'ejection'\n",
       "2. 'end of period'\n",
       "3. 'jump ball'\n",
       "4. 'start of period'\n",
       "5. 'unknown'\n",
       "6. 'violation'\n",
       "7. 'timeout'\n",
       "8. 'sub'\n",
       "9. 'foul'\n",
       "10. 'turnover'\n",
       "\n",
       "\n"
      ],
      "text/plain": [
       " [1] \"ejection\"        \"end of period\"   \"jump ball\"       \"start of period\"\n",
       " [5] \"unknown\"         \"violation\"       \"timeout\"         \"sub\"            \n",
       " [9] \"foul\"            \"turnover\"       "
      ]
     },
     "metadata": {},
     "output_type": "display_data"
    }
   ],
   "source": [
    "ev"
   ]
  },
  {
   "cell_type": "code",
   "execution_count": 50,
   "metadata": {},
   "outputs": [],
   "source": [
    "event.unsel <- which(PbP.GSW$event_type %in% ev)"
   ]
  },
  {
   "cell_type": "code",
   "execution_count": 51,
   "metadata": {},
   "outputs": [],
   "source": [
    "PbP.GSW.ev <- PbP.GSW[-event.unsel,]"
   ]
  },
  {
   "cell_type": "code",
   "execution_count": 52,
   "metadata": {},
   "outputs": [],
   "source": [
    "# PbP.GSW.ev"
   ]
  },
  {
   "cell_type": "markdown",
   "metadata": {},
   "source": [
    "The cross-table `T` is given by:"
   ]
  },
  {
   "cell_type": "code",
   "execution_count": 53,
   "metadata": {},
   "outputs": [],
   "source": [
    "attach(PbP.GSW.ev)"
   ]
  },
  {
   "cell_type": "code",
   "execution_count": 54,
   "metadata": {},
   "outputs": [],
   "source": [
    "T <- table(oppTeam, event_type, exclude=ev)"
   ]
  },
  {
   "cell_type": "code",
   "execution_count": 55,
   "metadata": {},
   "outputs": [
    {
     "data": {
      "text/plain": [
       "       event_type\n",
       "oppTeam free throw miss rebound shot\n",
       "    ATL         33   88      81   84\n",
       "    BKN         34   80      98   93\n",
       "    BOS         45   95      90   71\n",
       "    CHA         26   91      90   80\n",
       "    CHI         46   80      98   95\n",
       "    CLE         47   88      95   79\n",
       "    DAL         74  155     188  188\n",
       "    DEN         78  172     164  173\n",
       "    DET         34   75      85   83\n",
       "    HOU         56  118     119  131\n",
       "    IND         33   97      90   72\n",
       "    LAC        127  161     166  176\n",
       "    LAL        104  190     202  176\n",
       "    MEM         77  126     128  117\n",
       "    MIA         48   92      92   79\n",
       "    MIL         33   70      74   85\n",
       "    MIN         54  132     142  133\n",
       "    NOP         85  183     175  180\n",
       "    NYK         46   78      79   90\n",
       "    OKC         86  176     179  153\n",
       "    ORL         27   77      92   99\n",
       "    PHI         46   76      88   98\n",
       "    PHX         59  166     178  197\n",
       "    POR         60  123     116  125\n",
       "    SAC         76  165     169  159\n",
       "    SAS         70  175     169  162\n",
       "    TOR         50   68      66   90\n",
       "    UTA         64  190     167  158\n",
       "    WAS         50   83      89   83"
      ]
     },
     "metadata": {},
     "output_type": "display_data"
    }
   ],
   "source": [
    "T"
   ]
  },
  {
   "cell_type": "code",
   "execution_count": 56,
   "metadata": {},
   "outputs": [],
   "source": [
    "detach(PbP.GSW.ev)"
   ]
  },
  {
   "cell_type": "markdown",
   "metadata": {},
   "source": [
    "Some association measure can be directly obtained by resporting to the function assocstats in the library `vcd` as. follows:"
   ]
  },
  {
   "cell_type": "code",
   "execution_count": 57,
   "metadata": {},
   "outputs": [],
   "source": [
    "# install.packages(\"vcd\", repos='http://cran.us.r-project.org')"
   ]
  },
  {
   "cell_type": "code",
   "execution_count": 58,
   "metadata": {},
   "outputs": [],
   "source": [
    "library(vcd)"
   ]
  },
  {
   "cell_type": "code",
   "execution_count": 59,
   "metadata": {},
   "outputs": [
    {
     "data": {
      "text/plain": [
       "                    X^2 df P(> X^2)\n",
       "Likelihood Ratio 115.26 84 0.013396\n",
       "Pearson          116.25 84 0.011421\n",
       "\n",
       "Phi-Coefficient   : NA \n",
       "Contingency Coeff.: 0.097 \n",
       "Cramer's V        : 0.056 "
      ]
     },
     "metadata": {},
     "output_type": "display_data"
    }
   ],
   "source": [
    "assocstats(T)"
   ]
  },
  {
   "cell_type": "markdown",
   "metadata": {},
   "source": [
    "As the above results show:\n",
    "- the association between the two variables is low (Cramer's $V$=~0.06), but significantly not 0. \n",
    "- Pearson's $\\chi^2$ = 116.25 has *p*-value=~0.011. An association is usually considered significant when *p*-value is lower than conventional values 0.05 or 0.10. Ergo, not significant\n",
    "- Liklihood ratio a.k.a *G*-test, that gives here the same indications as the Chi-square test of independence, not significant.\n",
    "\n",
    "**We may conclude that there is low association that the number of game events (shots, missed shots, rebounds and free throws) in GSW's playtime depends on the opponent team**. Play attention to the fact that teams do not play against all other teams an equal number of times\n"
   ]
  },
  {
   "cell_type": "markdown",
   "metadata": {},
   "source": [
    "____"
   ]
  },
  {
   "cell_type": "markdown",
   "metadata": {},
   "source": [
    "### 2.1.2 - Mean dependence"
   ]
  },
  {
   "cell_type": "markdown",
   "metadata": {},
   "source": [
    "Mean dependence allows us to examine **correlation**, e.g., if the average number of points scored by all the NBA teams differ between the East and West Conferences or among the different Divisions, or between qualified teams for Playoffs, or to study if the average number of fouls (or assists, rebounds, ...) of one team differs across the quarters.\n",
    "\n",
    "In those situation, we want to analyze if and how the average of a numerical variable (e.g., the points made) varies acriss the classes defined by another variable (e.g., the points made) varies across the classes defined by another variable, which can be categorical (e.g., Playoff, with values Yes or No)\n",
    "\n",
    "In EDA, a variable *Y* is said to be **mean independent** from another variable *X* if and only if the conditional means of *Y* (i.e, the means computed within each group or class defined by *X*) are all equal and, consequently, equal to the unconditional mean of *Y* (computed over all the observation units, with out considering their classification according to *X*)."
   ]
  },
  {
   "cell_type": "markdown",
   "metadata": {},
   "source": [
    "----\n",
    "Note on ***Mean Independence***:\n",
    "\n",
    "Given two real random variables X and Y, we say that:\n",
    "\n",
    "1. $X$ and $Y$ are independent if the events ${X≤x}$ and ${Y≤y}$ are independent for any x,y,\n",
    "2. $X$ is **mean independent** from $Y$ if its conditional mean $𝔼(Y|X=x)$ equals its (unconditional) mean $𝔼(Y)$ for all $X$ such that the probability that $X=x$ is not zero,\n",
    "3. $X$ and $Y$ are uncorrelated if $𝔼(XY)=𝔼(X)𝔼(Y)$.\n",
    "\n",
    "Assuming the necessary integrability hypothesis, we have the implications  1.⟹2.⟹3..\n",
    "The 2nd implication follows from the law of iterated expectations: \n",
    "$𝔼(XY)=𝔼(𝔼(XY|Y))=𝔼(𝔼(X|Y)Y)=𝔼(X)𝔼(Y)$\n",
    "____"
   ]
  },
  {
   "cell_type": "markdown",
   "metadata": {},
   "source": [
    "A well-known index able to measure the level of mean dependence of $Y$ with respect to $X$ is the **Pearson's correlation ratio $\\eta^2_{Y/X}$**, that is the ratio of the between deviance over the total deviance $(BD/TD)$. (based on Total Deviance decomposition explained in the next notebook)\n",
    "\n",
    "Pearson's correlation ratio $\\eta^2_{Y/X}$ ranges from 0 (when the conditional means of *Y* are all equal and *Y* is mean independent from *X*) to 1 (*Y* perfectly depends on average of $X$). The ratio finds a very useful application in cluster analyis, where it helps deciding the number of clusters to maintain in the solution of a $k$-means clustering."
   ]
  },
  {
   "cell_type": "markdown",
   "metadata": {},
   "source": [
    "To investigate the mean dependence of some game variables on Playoff qualification, we compute the conditional means of each variable, that is averaging over teams qualified *(Playoff=Yes)* and not qualified *(Playoff=No)*, separately, adn the values of the Pearson's correlation ratio $\\eta^2$, in %."
   ]
  },
  {
   "cell_type": "code",
   "execution_count": 60,
   "metadata": {},
   "outputs": [],
   "source": [
    "library(dplyr)"
   ]
  },
  {
   "cell_type": "code",
   "execution_count": 61,
   "metadata": {},
   "outputs": [],
   "source": [
    "# install.packages(\"lsr\", repos='http://cran.us.r-project.org')"
   ]
  },
  {
   "cell_type": "code",
   "execution_count": 62,
   "metadata": {},
   "outputs": [],
   "source": [
    "library(lsr)"
   ]
  },
  {
   "cell_type": "code",
   "execution_count": 63,
   "metadata": {},
   "outputs": [],
   "source": [
    "# R.version"
   ]
  },
  {
   "cell_type": "code",
   "execution_count": 64,
   "metadata": {},
   "outputs": [],
   "source": [
    "# install.packages(\"tibble\", repos='http://cran.us.r-project.org')"
   ]
  },
  {
   "cell_type": "code",
   "execution_count": 65,
   "metadata": {},
   "outputs": [],
   "source": [
    "# remove.packages(\"ggplot2\")"
   ]
  },
  {
   "cell_type": "code",
   "execution_count": 66,
   "metadata": {},
   "outputs": [],
   "source": [
    "# install.packages(\"ggplot2\")"
   ]
  },
  {
   "cell_type": "code",
   "execution_count": 67,
   "metadata": {},
   "outputs": [],
   "source": [
    "library(tibble)"
   ]
  },
  {
   "cell_type": "code",
   "execution_count": 68,
   "metadata": {},
   "outputs": [],
   "source": [
    "FF <- fourfactors(Tbox, Obox)"
   ]
  },
  {
   "cell_type": "code",
   "execution_count": 69,
   "metadata": {},
   "outputs": [],
   "source": [
    "attach(Tbox)"
   ]
  },
  {
   "cell_type": "code",
   "execution_count": 70,
   "metadata": {},
   "outputs": [
    {
     "name": "stderr",
     "output_type": "stream",
     "text": [
      "The following object is masked from Tbox:\n",
      "\n",
      "    Team\n",
      "\n",
      "\n"
     ]
    }
   ],
   "source": [
    "attach(FF)"
   ]
  },
  {
   "cell_type": "code",
   "execution_count": 71,
   "metadata": {},
   "outputs": [],
   "source": [
    "X <- data.frame(PTS, P2M, P3M, FTM, REB=OREB+DREB, AST,\n",
    "                STL, BLK, ORtg, DRtg)"
   ]
  },
  {
   "cell_type": "code",
   "execution_count": 72,
   "metadata": {},
   "outputs": [],
   "source": [
    "detach(Tbox)"
   ]
  },
  {
   "cell_type": "code",
   "execution_count": 73,
   "metadata": {},
   "outputs": [],
   "source": [
    "detach(FF)"
   ]
  },
  {
   "cell_type": "code",
   "execution_count": 74,
   "metadata": {},
   "outputs": [],
   "source": [
    "Playoff <- Tadd$Playoff"
   ]
  },
  {
   "cell_type": "code",
   "execution_count": 75,
   "metadata": {},
   "outputs": [
    {
     "data": {
      "text/html": [
       "<table>\n",
       "<caption>A data.frame: 10 × 3</caption>\n",
       "<thead>\n",
       "\t<tr><th></th><th scope=col>No</th><th scope=col>Yes</th><th scope=col>eta2</th></tr>\n",
       "\t<tr><th></th><th scope=col>&lt;dbl&gt;</th><th scope=col>&lt;dbl&gt;</th><th scope=col>&lt;dbl&gt;</th></tr>\n",
       "</thead>\n",
       "<tbody>\n",
       "\t<tr><th scope=row>DRtg</th><td> 107.9</td><td> 104.6</td><td>42.53</td></tr>\n",
       "\t<tr><th scope=row>ORtg</th><td> 104.0</td><td> 108.1</td><td>40.25</td></tr>\n",
       "\t<tr><th scope=row>STL</th><td> 601.9</td><td> 659.6</td><td>28.77</td></tr>\n",
       "\t<tr><th scope=row>PTS</th><td>8576.0</td><td>8844.8</td><td>19.28</td></tr>\n",
       "\t<tr><th scope=row>BLK</th><td> 365.6</td><td> 420.4</td><td>18.12</td></tr>\n",
       "\t<tr><th scope=row>FTM</th><td>1328.0</td><td>1394.4</td><td> 5.58</td></tr>\n",
       "\t<tr><th scope=row>P2M</th><td>2353.7</td><td>2417.2</td><td> 3.28</td></tr>\n",
       "\t<tr><th scope=row>AST</th><td>1875.5</td><td>1931.6</td><td> 3.17</td></tr>\n",
       "\t<tr><th scope=row>P3M</th><td> 846.9</td><td> 871.9</td><td> 1.07</td></tr>\n",
       "\t<tr><th scope=row>REB</th><td>3558.1</td><td>3577.5</td><td> 0.49</td></tr>\n",
       "</tbody>\n",
       "</table>\n"
      ],
      "text/latex": [
       "A data.frame: 10 × 3\n",
       "\\begin{tabular}{r|lll}\n",
       "  & No & Yes & eta2\\\\\n",
       "  & <dbl> & <dbl> & <dbl>\\\\\n",
       "\\hline\n",
       "\tDRtg &  107.9 &  104.6 & 42.53\\\\\n",
       "\tORtg &  104.0 &  108.1 & 40.25\\\\\n",
       "\tSTL &  601.9 &  659.6 & 28.77\\\\\n",
       "\tPTS & 8576.0 & 8844.8 & 19.28\\\\\n",
       "\tBLK &  365.6 &  420.4 & 18.12\\\\\n",
       "\tFTM & 1328.0 & 1394.4 &  5.58\\\\\n",
       "\tP2M & 2353.7 & 2417.2 &  3.28\\\\\n",
       "\tAST & 1875.5 & 1931.6 &  3.17\\\\\n",
       "\tP3M &  846.9 &  871.9 &  1.07\\\\\n",
       "\tREB & 3558.1 & 3577.5 &  0.49\\\\\n",
       "\\end{tabular}\n"
      ],
      "text/markdown": [
       "\n",
       "A data.frame: 10 × 3\n",
       "\n",
       "| <!--/--> | No &lt;dbl&gt; | Yes &lt;dbl&gt; | eta2 &lt;dbl&gt; |\n",
       "|---|---|---|---|\n",
       "| DRtg |  107.9 |  104.6 | 42.53 |\n",
       "| ORtg |  104.0 |  108.1 | 40.25 |\n",
       "| STL |  601.9 |  659.6 | 28.77 |\n",
       "| PTS | 8576.0 | 8844.8 | 19.28 |\n",
       "| BLK |  365.6 |  420.4 | 18.12 |\n",
       "| FTM | 1328.0 | 1394.4 |  5.58 |\n",
       "| P2M | 2353.7 | 2417.2 |  3.28 |\n",
       "| AST | 1875.5 | 1931.6 |  3.17 |\n",
       "| P3M |  846.9 |  871.9 |  1.07 |\n",
       "| REB | 3558.1 | 3577.5 |  0.49 |\n",
       "\n"
      ],
      "text/plain": [
       "     No     Yes    eta2 \n",
       "DRtg  107.9  104.6 42.53\n",
       "ORtg  104.0  108.1 40.25\n",
       "STL   601.9  659.6 28.77\n",
       "PTS  8576.0 8844.8 19.28\n",
       "BLK   365.6  420.4 18.12\n",
       "FTM  1328.0 1394.4  5.58\n",
       "P2M  2353.7 2417.2  3.28\n",
       "AST  1875.5 1931.6  3.17\n",
       "P3M   846.9  871.9  1.07\n",
       "REB  3558.1 3577.5  0.49"
      ]
     },
     "metadata": {},
     "output_type": "display_data"
    }
   ],
   "source": [
    "eta <- sapply(X, function(Y){\n",
    "    cm <- round(tapply(Y, Playoff, mean), 1)\n",
    "    eta2 <- etaSquared(aov(Y~Playoff))[1]*100\n",
    "    c(cm, round(eta2, 2))\n",
    "}) %>%\n",
    "    t() %>%\n",
    "    as.data.frame() %>%\n",
    "    rename(No=N, Yes=Y, eta2=V3) %>%\n",
    "    tibble::rownames_to_column(\"rowname\") %>%\n",
    "    arrange(-eta2) %>%\n",
    "    tibble::column_to_rownames('rowname')\n",
    "\n",
    "eta"
   ]
  },
  {
   "cell_type": "markdown",
   "metadata": {},
   "source": [
    "^ Game variables' averages (conditional to Playoff) and values of $\\eta^2$ of mean dependence of game variables on Playoff qualification"
   ]
  },
  {
   "cell_type": "markdown",
   "metadata": {},
   "source": [
    "All the conditional means differ between qualified and non-qualified teams. Ergo, we can conclude that all these game variables are, to some extent, dependent on the Playoff qualification.\n",
    "\n",
    "As seen the table above, the values of $\\eta^2$, in several cases the degree of mean dependence is very low. \n",
    "For example, the number if rebounds and assists or the number of shots made (2-pt, 3pt and free throws) are substantially not dependent on thh Playoff qualification (they all have $\\eta^2$ lower that 6%).\n",
    "\n",
    "On the contrary, Defensive and Offensive Ratings are (moderately) highly dependent on Playoff ($\\eta^2 = $42.35% and 40.25%, respectively)\n",
    "\n",
    "This shows that it is the game as a whole that counts, not the game variables taken \n",
    "individually. Single variables don't tell us the whole story."
   ]
  },
  {
   "cell_type": "markdown",
   "metadata": {},
   "source": [
    "____\n",
    "### 2.1.3 - Correlation"
   ]
  },
  {
   "cell_type": "markdown",
   "metadata": {},
   "source": [
    "Correlation is a specific kind of statistical association which refers to the **linear relationship between two numerical variables**. When numerical variables are available, measuring the degree of association by using statistical dependence or mean dependence methods degrades both variables (in the case of statistical dependence) or one of them (in case of mean dependence) to fill the role of categorical variables.\n",
    "\n",
    "Instead, correlation analysis allows the optimal use of the information available in the **numerical variables which prevail over categoraical ones**"
   ]
  },
  {
   "cell_type": "markdown",
   "metadata": {},
   "source": [
    "In much detail, correlation analysis is based on concordance indices that are **positive** when the highest values of one variable are associated with the highest values of other variable and negative in the opposite case, and **negative** when the highest values of one variable are associated with the lowest values of the other variable"
   ]
  },
  {
   "cell_type": "markdown",
   "metadata": {},
   "source": [
    "The most widespread concordance index is **Pearson's correlation coefficient** which is designed to measure both intensity and direction of a linear relationship between the two variables. The focus is then on a linear relationship between the two variables and we can think of an interdependence between variables. Other concordance indexes measuring nonlinear association between variables have been proposed, for example the well known Kendall's $\\tau$"
   ]
  },
  {
   "cell_type": "markdown",
   "metadata": {},
   "source": [
    "Given two variables $X$ and $Y$, the value of Pearson's correlation coefficient $\\rho$ between $X$ and $Y$ ranges from $-1$ to $1$, with the extremes meaning perfect (negative or positive respectively) correlation and values near to 0 denoting absence of linear corelation (not necessarily absence of any kind of association)"
   ]
  },
  {
   "cell_type": "markdown",
   "metadata": {},
   "source": [
    "![Pearson correlation coeffecient](../static/2.1.3.correlation-coefficient.png)"
   ]
  },
  {
   "cell_type": "markdown",
   "metadata": {},
   "source": [
    "The following code computes the calue of $\\rho$ between the number of assists (AST) and turnovers (TOV) per minute played for players who have played at least 500 minutes"
   ]
  },
  {
   "cell_type": "code",
   "execution_count": 76,
   "metadata": {},
   "outputs": [],
   "source": [
    "data <- subset(Pbox, MIN>=500)"
   ]
  },
  {
   "cell_type": "code",
   "execution_count": 77,
   "metadata": {},
   "outputs": [],
   "source": [
    "attach(data)"
   ]
  },
  {
   "cell_type": "code",
   "execution_count": 78,
   "metadata": {},
   "outputs": [],
   "source": [
    "X <- data.frame(AST, TOV)/MIN"
   ]
  },
  {
   "cell_type": "code",
   "execution_count": 79,
   "metadata": {},
   "outputs": [],
   "source": [
    "detach(data)"
   ]
  },
  {
   "cell_type": "code",
   "execution_count": 80,
   "metadata": {},
   "outputs": [
    {
     "data": {
      "text/html": [
       "0.687388282910631"
      ],
      "text/latex": [
       "0.687388282910631"
      ],
      "text/markdown": [
       "0.687388282910631"
      ],
      "text/plain": [
       "[1] 0.6873883"
      ]
     },
     "metadata": {},
     "output_type": "display_data"
    }
   ],
   "source": [
    "cor(X$AST, X$TOV)"
   ]
  },
  {
   "cell_type": "markdown",
   "metadata": {},
   "source": [
    "^ The Pearson correlation coefficient equals $0.687$: as expected, there exists a positive linear relationship between assists and turnovers and the intensity of the association is rather strong"
   ]
  },
  {
   "cell_type": "code",
   "execution_count": 81,
   "metadata": {},
   "outputs": [
    {
     "data": {
      "text/html": [
       "0.667962815835927"
      ],
      "text/latex": [
       "0.667962815835927"
      ],
      "text/markdown": [
       "0.667962815835927"
      ],
      "text/plain": [
       "[1] 0.6679628"
      ]
     },
     "metadata": {},
     "output_type": "display_data"
    }
   ],
   "source": [
    "cor(rank(X$AST), rank(X$TOV))"
   ]
  },
  {
   "cell_type": "markdown",
   "metadata": {},
   "source": [
    "^ Pearson correlation between ranking based on assists and turnovers -- equivalent to computing Spearman's correlation coefficient"
   ]
  },
  {
   "cell_type": "markdown",
   "metadata": {},
   "source": [
    "**Spearman's correlation coeffecient**/ is one of the most common rank-correlation measures and ranges from $-1$ to $1$: it equals **1** when the player's postions are identical in the two rankings (perfect rank-agreement) and **-1** when once ranking is the reverse of the other (perfect disagreement). Values close to **0** suggest no association between rankings and increasing values imply increasing agreement between rankings"
   ]
  },
  {
   "cell_type": "code",
   "execution_count": 82,
   "metadata": {},
   "outputs": [
    {
     "data": {
      "text/html": [
       "0.667962815835927"
      ],
      "text/latex": [
       "0.667962815835927"
      ],
      "text/markdown": [
       "0.667962815835927"
      ],
      "text/plain": [
       "[1] 0.6679628"
      ]
     },
     "metadata": {},
     "output_type": "display_data"
    }
   ],
   "source": [
    "cor(X$AST, X$TOV, method=\"spearman\")"
   ]
  },
  {
   "cell_type": "markdown",
   "metadata": {},
   "source": [
    "^ value of $0.668$ denotes a positive and strong assocation between the two rankings: players on top positions in the ranking of assists tend to rank high on turnovers"
   ]
  },
  {
   "cell_type": "markdown",
   "metadata": {},
   "source": [
    "**If we have more than two variables, we can compute all the Pearson correlation coeffecients between each pair of variables and collect them in a matrix, called *correlation matrix***. It is a squared matrix (number of rows equal to the number of columns) with dimension given by the number of analyzed variables."
   ]
  },
  {
   "cell_type": "code",
   "execution_count": 83,
   "metadata": {},
   "outputs": [
    {
     "data": {
      "text/html": [
       "<table>\n",
       "<caption>A matrix: 2 × 2 of type dbl</caption>\n",
       "<thead>\n",
       "\t<tr><th></th><th scope=col>AST</th><th scope=col>TOV</th></tr>\n",
       "</thead>\n",
       "<tbody>\n",
       "\t<tr><th scope=row>AST</th><td>1.0000000</td><td>0.6873883</td></tr>\n",
       "\t<tr><th scope=row>TOV</th><td>0.6873883</td><td>1.0000000</td></tr>\n",
       "</tbody>\n",
       "</table>\n"
      ],
      "text/latex": [
       "A matrix: 2 × 2 of type dbl\n",
       "\\begin{tabular}{r|ll}\n",
       "  & AST & TOV\\\\\n",
       "\\hline\n",
       "\tAST & 1.0000000 & 0.6873883\\\\\n",
       "\tTOV & 0.6873883 & 1.0000000\\\\\n",
       "\\end{tabular}\n"
      ],
      "text/markdown": [
       "\n",
       "A matrix: 2 × 2 of type dbl\n",
       "\n",
       "| <!--/--> | AST | TOV |\n",
       "|---|---|---|\n",
       "| AST | 1.0000000 | 0.6873883 |\n",
       "| TOV | 0.6873883 | 1.0000000 |\n",
       "\n"
      ],
      "text/plain": [
       "    AST       TOV      \n",
       "AST 1.0000000 0.6873883\n",
       "TOV 0.6873883 1.0000000"
      ]
     },
     "metadata": {},
     "output_type": "display_data"
    }
   ],
   "source": [
    "cor(X) # correlation matrix of a variable with itself"
   ]
  },
  {
   "cell_type": "code",
   "execution_count": null,
   "metadata": {},
   "outputs": [],
   "source": []
  },
  {
   "cell_type": "code",
   "execution_count": null,
   "metadata": {},
   "outputs": [],
   "source": []
  },
  {
   "cell_type": "code",
   "execution_count": null,
   "metadata": {},
   "outputs": [],
   "source": []
  },
  {
   "cell_type": "code",
   "execution_count": null,
   "metadata": {},
   "outputs": [],
   "source": []
  },
  {
   "cell_type": "code",
   "execution_count": null,
   "metadata": {},
   "outputs": [],
   "source": []
  },
  {
   "cell_type": "code",
   "execution_count": null,
   "metadata": {},
   "outputs": [],
   "source": []
  }
 ],
 "metadata": {
  "kernelspec": {
   "display_name": "R",
   "language": "R",
   "name": "ir"
  },
  "language_info": {
   "codemirror_mode": "r",
   "file_extension": ".r",
   "mimetype": "text/x-r-source",
   "name": "R",
   "pygments_lexer": "r",
   "version": "4.0.1"
  }
 },
 "nbformat": 4,
 "nbformat_minor": 4
}
